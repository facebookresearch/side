{
 "cells": [
  {
   "cell_type": "code",
   "execution_count": null,
   "id": "224df63b",
   "metadata": {},
   "outputs": [],
   "source": [
    "import sys\n",
    "import glob\n",
    "import pandas\n",
    "\n",
    "# sys.path.append(f\"/PATH_TO_KILT/KILT/\")\n",
    "import kilt.kilt_utils\n",
    "import kilt.eval_downstream\n",
    "import kilt.eval_retrieval\n",
    "from importlib import reload \n",
    "kilt.eval_retrieval = reload(kilt.eval_retrieval)\n",
    "\n",
    "K = [1,2,3,4,5,10,20,50,100]\n",
    "rank_keys = [\"url\"]\n",
    "results = {}\n",
    "\n",
    "PATH_TO_PREDICTIONS = \"YOUR PATH TO PREDICTIONS\"# for example /private/home/USERNAME/side-internal/outputs/*/*/predictions/\n",
    "\n",
    "guess_dataset_files = list(glob.glob(f\"{PATH_TO_PREDICTIONS}/*.jsonl\"))\n",
    "gold_datasets_dir = f\"/checkpoint/fabiopetroni/KILT/datasets-web/\""
   ]
  },
  {
   "cell_type": "code",
   "execution_count": null,
   "id": "9c0ba57a",
   "metadata": {},
   "outputs": [],
   "source": [
    "try:\n",
    "    print(len(results))\n",
    "except:\n",
    "    results = {}\n",
    "    \n",
    "for guess_dataset_file in guess_dataset_files:\n",
    "    \n",
    "    print(f\"Evaluating: {guess_dataset_file}\")\n",
    "\n",
    "    experiment_id = guess_dataset_file.split(\"/\")[-5]\n",
    "    guess_file = guess_dataset_file.split(\"/\")[-1]\n",
    "\n",
    "    if experiment_id in results:\n",
    "        continue\n",
    "        \n",
    "    gold_dataset = kilt.kilt_utils.load_data(f\"{gold_datasets_dir}/{guess_file}\")\n",
    "    guess_dataset = kilt.kilt_utils.load_data(guess_dataset_file)\n",
    "\n",
    "    # 0. validate input\n",
    "    gold_dataset, guess_dataset = kilt.eval_downstream.validate_input(\n",
    "        gold_dataset, guess_dataset\n",
    "    )\n",
    "\n",
    "    # 1. filter out ground thruth answers\n",
    "    guess_dataset = kilt.eval_retrieval.filter_answers(guess_dataset)\n",
    "\n",
    "    # 2. get retrieval metrics\n",
    "    result = kilt.eval_retrieval.compute(gold_dataset, guess_dataset, K, rank_keys)\n",
    "    \n",
    "    results[experiment_id] = result\n",
    "    "
   ]
  },
  {
   "cell_type": "code",
   "execution_count": null,
   "id": "6e767387",
   "metadata": {},
   "outputs": [],
   "source": [
    "df = pandas.DataFrame.from_dict(results).transpose().sort_index()\n",
    "df = df[[\"precision@1\", \"success_rate@2\", \"success_rate@3\", \"success_rate@4\", \"success_rate@5\", \"success_rate@10\", \"success_rate@20\", \"success_rate@50\", \"success_rate@100\"]]\n",
    "\n",
    "df"
   ]
  }
 ],
 "metadata": {
  "kernelspec": {
   "display_name": "Python 3",
   "language": "python",
   "name": "python3"
  },
  "language_info": {
   "codemirror_mode": {
    "name": "ipython",
    "version": 3
   },
   "file_extension": ".py",
   "mimetype": "text/x-python",
   "name": "python",
   "nbconvert_exporter": "python",
   "pygments_lexer": "ipython3",
   "version": "3.8.10"
  }
 },
 "nbformat": 4,
 "nbformat_minor": 5
}
