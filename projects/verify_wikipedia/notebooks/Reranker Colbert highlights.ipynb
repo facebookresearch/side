{
 "cells": [
  {
   "cell_type": "code",
   "execution_count": 1,
   "id": "9be09321",
   "metadata": {},
   "outputs": [],
   "source": [
    "import torch\n",
    "import json\n",
    "import token\n",
    "import transformers\n",
    "import numpy\n",
    "import seaborn\n",
    "import copy\n",
    "import matplotlib.pyplot as plt\n",
    "from transformers import BertTokenizer, RobertaTokenizer\n",
    "from IPython.core.display import display, HTML"
   ]
  },
  {
   "cell_type": "markdown",
   "id": "d48d28d4",
   "metadata": {},
   "source": [
    "### Init tokenizer"
   ]
  },
  {
   "cell_type": "code",
   "execution_count": 2,
   "id": "60374e91",
   "metadata": {},
   "outputs": [
    {
     "data": {
      "text/plain": [
       "106"
      ]
     },
     "execution_count": 2,
     "metadata": {},
     "output_type": "execute_result"
    }
   ],
   "source": [
    "st = {\n",
    "    'additional_special_tokens': ['[CIT]', '[URL]', '[SYSTEM]', '[TITLE]', '[SECTION]', '[TEXT]',  '[RANK:0]', '[RANK:1]', '[RANK:2]', '[RANK:3]', '[RANK:4]', '[RANK:5]', '[RANK:6]', '[RANK:7]', '[RANK:8]', '[RANK:9]', '[RANK:10]', '[RANK:11]', '[RANK:12]', '[RANK:13]', '[RANK:14]', '[RANK:15]', '[RANK:16]', '[RANK:17]', '[RANK:18]', '[RANK:19]', '[RANK:20]', '[RANK:21]', '[RANK:22]', '[RANK:23]', '[RANK:24]', '[RANK:25]', '[RANK:26]', '[RANK:27]', '[RANK:28]', '[RANK:29]', '[RANK:30]', '[RANK:31]', '[RANK:32]', '[RANK:33]', '[RANK:34]', '[RANK:35]', '[RANK:36]', '[RANK:37]', '[RANK:38]', '[RANK:39]', '[RANK:40]', '[RANK:41]', '[RANK:42]', '[RANK:43]', '[RANK:44]', '[RANK:45]', '[RANK:46]', '[RANK:47]', '[RANK:48]', '[RANK:49]', '[RANK:50]', '[RANK:51]', '[RANK:52]', '[RANK:53]', '[RANK:54]', '[RANK:55]', '[RANK:56]', '[RANK:57]', '[RANK:58]', '[RANK:59]', '[RANK:60]', '[RANK:61]', '[RANK:62]', '[RANK:63]', '[RANK:64]', '[RANK:65]', '[RANK:66]', '[RANK:67]', '[RANK:68]', '[RANK:69]', '[RANK:70]', '[RANK:71]', '[RANK:72]', '[RANK:73]', '[RANK:74]', '[RANK:75]', '[RANK:76]', '[RANK:77]', '[RANK:78]', '[RANK:79]', '[RANK:80]', '[RANK:81]', '[RANK:82]', '[RANK:83]', '[RANK:84]', '[RANK:85]', '[RANK:86]', '[RANK:87]', '[RANK:88]', '[RANK:89]', '[RANK:90]', '[RANK:91]', '[RANK:92]', '[RANK:93]', '[RANK:94]', '[RANK:95]', '[RANK:96]', '[RANK:97]', '[RANK:98]', '[RANK:99]']\n",
    "}\n",
    "\n",
    "tokenizer = RobertaTokenizer.from_pretrained(\"roberta-large\", do_lower_case=\"True\")\n",
    "tokenizer.add_special_tokens(st)"
   ]
  },
  {
   "cell_type": "markdown",
   "id": "1304fb96",
   "metadata": {},
   "source": [
    "### Load interactions file\n",
    "\n",
    "You can also load other shards from the prediction, i.e. set the shard_id in the range from 0-15"
   ]
  },
  {
   "cell_type": "code",
   "execution_count": 3,
   "id": "ef1eb199",
   "metadata": {},
   "outputs": [],
   "source": [
    "shard_id = 15"
   ]
  },
  {
   "cell_type": "code",
   "execution_count": 4,
   "id": "defc6ae9",
   "metadata": {},
   "outputs": [],
   "source": [
    "colbert_mode_prediction_path = \"/checkpoint/fabiopetroni/WAI/Samuel/misc/colbert_interactions_example/\"\n",
    "# other shard files are 0-16, 1-16, 2-16, ...\n",
    "colbert_interactions_file = colbert_mode_prediction_path + \"wafer-dev-kiltweb.jsonl.15-16\"\n",
    "\n",
    "colbert_interactions = list()\n",
    "with open(colbert_interactions_file) as f:\n",
    "    for line in f:\n",
    "        colbert_interactions.append(json.loads(line))"
   ]
  },
  {
   "cell_type": "code",
   "execution_count": 5,
   "id": "5062b542",
   "metadata": {},
   "outputs": [],
   "source": [
    "# Uncomment to see raw text from instance to check\n",
    "#colbert_interactions[instance_id][\"input\"]"
   ]
  },
  {
   "cell_type": "code",
   "execution_count": 6,
   "id": "3c2ea214",
   "metadata": {},
   "outputs": [],
   "source": [
    "# Uncomment to see raw text from instance to check\n",
    "#colbert_interactions[instance_id][\"output\"][0][\"provenance\"][0][\"text\"]"
   ]
  },
  {
   "cell_type": "markdown",
   "id": "1918c0cb",
   "metadata": {},
   "source": [
    "### Define helper functions for visualization"
   ]
  },
  {
   "cell_type": "code",
   "execution_count": 318,
   "id": "b22ebaee",
   "metadata": {},
   "outputs": [],
   "source": [
    "def get_lower_bound(_interactions):\n",
    "    #return interactions.min()\n",
    "    interactions = _interactions.view(-1)\n",
    "    size = interactions.size(0)\n",
    "    return interactions.topk(int((size*0.99))).values[-1]\n",
    "\n",
    "def cl(tok_str, t):\n",
    "    if isinstance(tokenizer, BertTokenizer):\n",
    "        if t.startswith(\"##\"):\n",
    "            if len(tok_str) > 0:\n",
    "                tok_str.pop(-1)\n",
    "            t = t[2:]\n",
    "\n",
    "    if isinstance(tokenizer, RobertaTokenizer):\n",
    "        if t.startswith(\"Ġ\"):\n",
    "            if len(tok_str) > 0:\n",
    "                tok_str.append(\" \")\n",
    "            t = t[1:]\n",
    "        if t == \"<s>\":\n",
    "            t = \"[S]\"\n",
    "        if t == \"</s>\":\n",
    "            t = \"[/S]\"\n",
    "        if t == \"<pad>\":\n",
    "            t = \"\"\n",
    "        if t == \"âĢ\":\n",
    "            t = \"\"\n",
    "    return tok_str, t\n",
    "    \n",
    "def print_highlighted(interactions, toks, other_toks, other_ind):\n",
    "    _interactions = copy.deepcopy(interactions)\n",
    "    if _interactions.min() < 0:\n",
    "        _interactions += _interactions.min()\n",
    "    _interactions = interactions - get_lower_bound(_interactions)\n",
    "    _interactions[_interactions < 0] = 0\n",
    "    _interactions = ((1-_interactions / _interactions.max()) * 255).int().tolist() \n",
    "    tok_str = list()\n",
    "    for i,t in enumerate(toks):\n",
    "        tok_str, t = cl(tok_str, t)\n",
    "        \n",
    "        attended = ' '.join([\n",
    "            cl([], other_toks[j])[1] if j != other_ind[i] else \"[\" + cl([], other_toks[j])[1] + \"]\"\n",
    "            for j in range(\n",
    "                max(0, other_ind[i]-3),\n",
    "                min(other_ind[i]+3, len(other_toks)),\n",
    "                1\n",
    "            )])\n",
    "        \n",
    "        tok_str.append(\n",
    "            f'<span style=\"background:rgb({_interactions[i]}, 255, {_interactions[i]})\" title=\"{attended}\">{t}</span>'\n",
    "        )\n",
    "        if isinstance(tokenizer, BertTokenizer):\n",
    "            tok_str.append(\" \")\n",
    "        \n",
    "    display(HTML(\"\".join(tok_str) + \"<p>\"))\n",
    "\n",
    "def print_instance(instance_id):\n",
    "    q_ids = colbert_interactions[instance_id][\"output\"][0][\"provenance\"][0][\"question_ids\"]\n",
    "    c_ids = colbert_interactions[instance_id][\"output\"][0][\"provenance\"][0][\"context_ids\"]\n",
    "\n",
    "    q_toks = tokenizer.convert_ids_to_tokens(q_ids[instance_id%2])\n",
    "    c_toks = tokenizer.convert_ids_to_tokens(c_ids[instance_id%2])\n",
    "\n",
    "    interactions = colbert_interactions[instance_id][\"output\"][0][\"provenance\"][0][\"interactions\"]\n",
    "    interactions = torch.tensor(interactions)\n",
    "    \n",
    "    print(\"Wikipedia\")\n",
    "    highlights = interactions[instance_id%2][instance_id%2].clone()\n",
    "    max_ind = highlights.max(-2).indices\n",
    "    ind = torch.zeros_like(highlights)\n",
    "    ind[max_ind, torch.arange(0,ind.size(0))] = 1\n",
    "    highlights = (highlights*ind).max(-1).values.view(-1)\n",
    "    aligned = (highlights*ind).max(-1).indices.view(-1)\n",
    "    \n",
    "    print_highlighted(\n",
    "        interactions=highlights,\n",
    "        toks=q_toks,\n",
    "        other_toks=c_toks,\n",
    "        other_ind=aligned,\n",
    "    )\n",
    "\n",
    "    print(\"Passage\")\n",
    "    highlights = interactions[instance_id%2][instance_id%2].clone()\n",
    "    max_ind = highlights.max(-1).indices\n",
    "    ind = torch.zeros_like(highlights)\n",
    "    ind[torch.arange(0,ind.size(0)), max_ind] = 1\n",
    "    highlights = (highlights*ind).max(-2).values.view(-1)\n",
    "    aligned = (highlights*ind).max(-2).indices.view(-1)\n",
    "\n",
    "    print_highlighted(\n",
    "        interactions=highlights,\n",
    "        toks=c_toks,\n",
    "        other_toks=q_toks,\n",
    "        other_ind=aligned,\n",
    "    )\n"
   ]
  },
  {
   "cell_type": "code",
   "execution_count": 319,
   "id": "ab9f34eb",
   "metadata": {
    "scrolled": true
   },
   "outputs": [],
   "source": [
    "#fig, ax = plt.subplots()\n",
    "#fig.set_size_inches(50., 50.)\n",
    "#seaborn.heatmap((interactions[0][0][:192][:192]).max(-1).values.view(-1, 1), yticklabels=q_toks)"
   ]
  },
  {
   "cell_type": "code",
   "execution_count": 320,
   "id": "cc0bd2c7",
   "metadata": {
    "scrolled": true
   },
   "outputs": [],
   "source": [
    "#fig, ax = plt.subplots()\n",
    "#fig.set_size_inches(50., 50.)\n",
    "#seaborn.heatmap((interactions[0][0][:192][:192]).max(-2).values.view(1, -1).t(), yticklabels=c_toks)"
   ]
  },
  {
   "cell_type": "markdown",
   "id": "85c615bb",
   "metadata": {},
   "source": [
    "### Playground\n",
    "\n",
    "Put in other numbers for the instance_id."
   ]
  },
  {
   "cell_type": "code",
   "execution_count": 321,
   "id": "5e8be5d2",
   "metadata": {},
   "outputs": [
    {
     "name": "stdout",
     "output_type": "stream",
     "text": [
      "You can set instance_id maximal to 269.\n"
     ]
    }
   ],
   "source": [
    "print(f\"You can set instance_id maximal to {len(colbert_interactions)-1}.\")"
   ]
  },
  {
   "cell_type": "code",
   "execution_count": 351,
   "id": "beb18e1f",
   "metadata": {},
   "outputs": [],
   "source": [
    "instance_id = 17"
   ]
  },
  {
   "cell_type": "code",
   "execution_count": 352,
   "id": "147769db",
   "metadata": {
    "scrolled": false
   },
   "outputs": [
    {
     "name": "stdout",
     "output_type": "stream",
     "text": [
      "\n",
      " 17 \n",
      "\n",
      "Wikipedia\n"
     ]
    },
    {
     "data": {
      "text/html": [
       "<span style=\"background:rgb(1, 255, 1)\" title=\"[[S]] The Right\">[S]</span><span style=\"background:rgb(255, 255, 255)\" title=\"[[S]] The Right\">Merc</span><span style=\"background:rgb(255, 255, 255)\" title=\"[[S]] The Right\">ury</span> <span style=\"background:rgb(255, 255, 255)\" title=\"[[S]] The Right\">Seven</span><span style=\"background:rgb(255, 255, 255)\" title=\"[[S]] The Right\">[/S]</span><span style=\"background:rgb(255, 255, 255)\" title=\"[[S]] The Right\">pro</span><span style=\"background:rgb(255, 255, 255)\" title=\"[[S]] The Right\">hibited</span> <span style=\"background:rgb(255, 255, 255)\" title=\"[[S]] The Right\">junior</span> <span style=\"background:rgb(255, 255, 255)\" title=\"[[S]] The Right\">astronauts</span> <span style=\"background:rgb(255, 255, 255)\" title=\"[[S]] The Right\">from</span> <span style=\"background:rgb(255, 255, 255)\" title=\"[[S]] The Right\">receiving</span> <span style=\"background:rgb(255, 255, 255)\" title=\"[[S]] The Right\">gifts</span> <span style=\"background:rgb(255, 255, 255)\" title=\"[[S]] The Right\">and</span> <span style=\"background:rgb(255, 255, 255)\" title=\"[[S]] The Right\">consulting</span> <span style=\"background:rgb(255, 255, 255)\" title=\"[[S]] The Right\">or</span> <span style=\"background:rgb(255, 255, 255)\" title=\"[[S]] The Right\">teaching</span> <span style=\"background:rgb(255, 255, 255)\" title=\"[[S]] The Right\">part</span><span style=\"background:rgb(255, 255, 255)\" title=\"[[S]] The Right\">-</span><span style=\"background:rgb(255, 255, 255)\" title=\"[[S]] The Right\">time</span><span style=\"background:rgb(255, 255, 255)\" title=\"[[S]] The Right\">,</span> <span style=\"background:rgb(255, 255, 255)\" title=\"[[S]] The Right\">he</span> <span style=\"background:rgb(255, 255, 255)\" title=\"[[S]] The Right\">remained</span> <span style=\"background:rgb(255, 255, 255)\" title=\"[[S]] The Right\">vice</span> <span style=\"background:rgb(255, 255, 255)\" title=\"[[S]] The Right\">president</span> <span style=\"background:rgb(255, 255, 255)\" title=\"[[S]] The Right\">and</span> <span style=\"background:rgb(255, 255, 255)\" title=\"[[S]] The Right\">part</span> <span style=\"background:rgb(255, 255, 255)\" title=\"[[S]] The Right\">owner</span> <span style=\"background:rgb(255, 255, 255)\" title=\"[[S]] The Right\">of</span> <span style=\"background:rgb(1, 255, 1)\" title=\"[[S]] The Right\">the</span> <span style=\"background:rgb(6, 255, 6)\" title=\"[[S]] The Right\">Bay</span><span style=\"background:rgb(6, 255, 6)\" title=\"[[S]] The Right\">town</span> <span style=\"background:rgb(255, 255, 255)\" title=\"[[S]] The Right\">National</span> <span style=\"background:rgb(255, 255, 255)\" title=\"[[S]] The Right\">Bank</span> <span style=\"background:rgb(255, 255, 255)\" title=\"[[S]] The Right\">in</span> <span style=\"background:rgb(35, 255, 35)\" title=\"original cloth with [titles] to the\">Houston</span><span style=\"background:rgb(0, 255, 0)\" title=\". Fine in [[/S]]  \">,</span> <span style=\"background:rgb(255, 255, 255)\" title=\"[[S]] The Right\">and</span> <span style=\"background:rgb(255, 255, 255)\" title=\"[[S]] The Right\">devoted</span> <span style=\"background:rgb(255, 255, 255)\" title=\"[[S]] The Right\">much</span> <span style=\"background:rgb(255, 255, 255)\" title=\"[[S]] The Right\">of</span> <span style=\"background:rgb(2, 255, 2)\" title=\"[[S]] The Right\">his</span> <span style=\"background:rgb(255, 255, 255)\" title=\"[[S]] The Right\">time</span> <span style=\"background:rgb(255, 255, 255)\" title=\"[[S]] The Right\">to</span> <span style=\"background:rgb(255, 255, 255)\" title=\"[[S]] The Right\">it</span><span style=\"background:rgb(2, 255, 2)\" title=\"and additionally signed [on] the half\">.</span> <span style=\"background:rgb(255, 255, 255)\" title=\"[[S]] The Right\">Training</span> <span style=\"background:rgb(255, 255, 255)\" title=\"[[S]] The Right\">was</span> <span style=\"background:rgb(255, 255, 255)\" title=\"[[S]] The Right\">always</span> <span style=\"background:rgb(255, 255, 255)\" title=\"[[S]] The Right\">un</span><span style=\"background:rgb(255, 255, 255)\" title=\"[[S]] The Right\">graded</span><span style=\"background:rgb(255, 255, 255)\" title=\"[[S]] The Right\">;</span> <span style=\"background:rgb(0, 255, 0)\" title=\"close relationship with [the] Black Panther\">the</span> <span style=\"background:rgb(255, 255, 255)\" title=\"[[S]] The Right\">Mercury</span> <span style=\"background:rgb(255, 255, 255)\" title=\"[[S]] The Right\">astronauts</span> <span style=\"background:rgb(255, 255, 255)\" title=\"[[S]] The Right\">had</span> <span style=\"background:rgb(255, 255, 255)\" title=\"[[S]] The Right\">nothing</span> <span style=\"background:rgb(255, 255, 255)\" title=\"[[S]] The Right\">to</span> <span style=\"background:rgb(255, 255, 255)\" title=\"[[S]] The Right\">gain</span> <span style=\"background:rgb(255, 255, 255)\" title=\"[[S]] The Right\">and</span> <span style=\"background:rgb(255, 255, 255)\" title=\"[[S]] The Right\">much</span> <span style=\"background:rgb(255, 255, 255)\" title=\"[[S]] The Right\">to</span> <span style=\"background:rgb(255, 255, 255)\" title=\"[[S]] The Right\">lose</span> <span style=\"background:rgb(255, 255, 255)\" title=\"[[S]] The Right\">from</span> <span style=\"background:rgb(255, 255, 255)\" title=\"[[S]] The Right\">being</span> <span style=\"background:rgb(255, 255, 255)\" title=\"[[S]] The Right\">objectively</span> <span style=\"background:rgb(255, 255, 255)\" title=\"[[S]] The Right\">compared</span> <span style=\"background:rgb(255, 255, 255)\" title=\"[[S]] The Right\">to</span> <span style=\"background:rgb(255, 255, 255)\" title=\"[[S]] The Right\">the</span> <span style=\"background:rgb(255, 255, 255)\" title=\"[[S]] The Right\">newer</span> <span style=\"background:rgb(255, 255, 255)\" title=\"[[S]] The Right\">classes</span><span style=\"background:rgb(255, 255, 255)\" title=\"[[S]] The Right\">,</span> <span style=\"background:rgb(255, 255, 255)\" title=\"[[S]] The Right\">as</span> <span style=\"background:rgb(255, 255, 255)\" title=\"[[S]] The Right\">it</span> <span style=\"background:rgb(255, 255, 255)\" title=\"[[S]] The Right\">could</span> <span style=\"background:rgb(255, 255, 255)\" title=\"[[S]] The Right\">threaten</span> <span style=\"background:rgb(255, 255, 255)\" title=\"[[S]] The Right\">their</span> <span style=\"background:rgb(255, 255, 255)\" title=\"[[S]] The Right\">privileged</span> <span style=\"background:rgb(255, 255, 255)\" title=\"[[S]] The Right\">status</span><span style=\"background:rgb(255, 255, 255)\" title=\"[[S]] The Right\">,</span> <span style=\"background:rgb(255, 255, 255)\" title=\"[[S]] The Right\">managerial</span> <span style=\"background:rgb(255, 255, 255)\" title=\"[[S]] The Right\">control</span><span style=\"background:rgb(255, 255, 255)\" title=\"[[S]] The Right\">,</span> <span style=\"background:rgb(255, 255, 255)\" title=\"[[S]] The Right\">and</span> <span style=\"background:rgb(255, 255, 255)\" title=\"[[S]] The Right\">priority</span> <span style=\"background:rgb(255, 255, 255)\" title=\"[[S]] The Right\">for</span> <span style=\"background:rgb(255, 255, 255)\" title=\"[[S]] The Right\">flight</span> <span style=\"background:rgb(255, 255, 255)\" title=\"[[S]] The Right\">assignments</span><span style=\"background:rgb(255, 255, 255)\" title=\"[[S]] The Right\">.</span> <span style=\"background:rgb(255, 255, 255)\" title=\"[[S]] The Right\">The</span> <span style=\"background:rgb(255, 255, 255)\" title=\"[[S]] The Right\">astronaut</span><span style=\"background:rgb(0, 255, 0)\" title=\"[[S]] The Right\">'s</span> <span style=\"background:rgb(255, 255, 255)\" title=\"[[S]] The Right\">attendance</span> <span style=\"background:rgb(255, 255, 255)\" title=\"[[S]] The Right\">at</span> <span style=\"background:rgb(255, 255, 255)\" title=\"[[S]] The Right\">their</span> <span style=\"background:rgb(255, 255, 255)\" title=\"[[S]] The Right\">training</span> <span style=\"background:rgb(255, 255, 255)\" title=\"[[S]] The Right\">events</span> <span style=\"background:rgb(255, 255, 255)\" title=\"[[S]] The Right\">was</span> <span style=\"background:rgb(255, 255, 255)\" title=\"[[S]] The Right\">voluntary</span><span style=\"background:rgb(1, 255, 1)\" title=\"[[S]] The Right\">.</span> <span style=\"background:rgb(1, 255, 1)\" title=\"[[S]] The Right\">The</span> <span style=\"background:rgb(255, 255, 255)\" title=\"[[S]] The Right\">character</span> <span style=\"background:rgb(255, 255, 255)\" title=\"[[S]] The Right\">of</span> <span style=\"background:rgb(255, 255, 255)\" title=\"[[S]] The Right\">the</span> <span style=\"background:rgb(22, 255, 22)\" title=\"relationship with the [Black] Panther Party\">Astron</span><span style=\"background:rgb(21, 255, 21)\" title=\"work . Oct [av] o ,\">aut</span> <span style=\"background:rgb(14, 255, 14)\" title=\"[[S]] The Right\">Office</span> <span style=\"background:rgb(255, 255, 255)\" title=\"[[S]] The Right\">would</span> <span style=\"background:rgb(255, 255, 255)\" title=\"[[S]] The Right\">only</span> <span style=\"background:rgb(255, 255, 255)\" title=\"[[S]] The Right\">change</span> <span style=\"background:rgb(255, 255, 255)\" title=\"[[S]] The Right\">after</span> <span style=\"background:rgb(255, 255, 255)\" title=\"[[S]] The Right\">Mercury</span> <span style=\"background:rgb(255, 255, 255)\" title=\"[[S]] The Right\">astronauts</span> <span style=\"background:rgb(255, 255, 255)\" title=\"[[S]] The Right\">retired</span> <span style=\"background:rgb(255, 255, 255)\" title=\"[[S]] The Right\">in</span> <span style=\"background:rgb(255, 255, 255)\" title=\"[[S]] The Right\">the</span> <span style=\"background:rgb(255, 255, 255)\" title=\"[[S]] The Right\">1970</span><span style=\"background:rgb(255, 255, 255)\" title=\"[[S]] The Right\">s</span><span style=\"background:rgb(255, 255, 255)\" title=\"[[S]] The Right\">,</span> <span style=\"background:rgb(255, 255, 255)\" title=\"[[S]] The Right\">and</span> <span style=\"background:rgb(255, 255, 255)\" title=\"[[S]] The Right\">control</span> <span style=\"background:rgb(255, 255, 255)\" title=\"[[S]] The Right\">passed</span> <span style=\"background:rgb(255, 255, 255)\" title=\"[[S]] The Right\">to</span> <span style=\"background:rgb(17, 255, 17)\" title=\"page by pilot [Chuck] Ye ager\">George</span> <span style=\"background:rgb(39, 255, 39)\" title=\". Oct av [o] , original\">Abbey</span><span style=\"background:rgb(3, 255, 3)\" title=\", original cloth [with] titles to\">.</span> <span style=\"background:rgb(1, 255, 1)\" title=\"- title page [by] pilot Chuck\">The</span> <span style=\"background:rgb(22, 255, 22)\" title=\"[[S]] The Right\">Mercury</span> <span style=\"background:rgb(21, 255, 21)\" title=\"[[S]] The Right\">Seven</span> <span style=\"background:rgb(2, 255, 2)\" title=\". Jacket design [by] Milton Gl\">wrote</span> <span style=\"background:rgb(255, 255, 255)\" title=\"[[S]] The Right\">first</span><span style=\"background:rgb(1, 255, 1)\" title=\"on the half [-] title page\">-</span><span style=\"background:rgb(255, 255, 255)\" title=\"[[S]] The Right\">hand</span> <span style=\"background:rgb(29, 255, 29)\" title=\"half - title [page] by pilot\">accounts</span> <span style=\"background:rgb(4, 255, 4)\" title=\"[[S]] The Right\">of</span> <span style=\"background:rgb(255, 255, 255)\" title=\"[[S]] The Right\">their</span> <span style=\"background:rgb(33, 255, 33)\" title=\"[[S]] The Right\">selection</span> <span style=\"background:rgb(0, 255, 0)\" title=\"[[S]] The Right\">and</span> <span style=\"background:rgb(255, 255, 255)\" title=\"[[S]] The Right\">preparation</span> <span style=\"background:rgb(2, 255, 2)\" title=\"[[S]] The Right\">for</span> <span style=\"background:rgb(255, 255, 255)\" title=\"[[S]] The Right\">the</span> <span style=\"background:rgb(10, 255, 10)\" title=\"John Glenn ; [one] of the\">Mercury</span> <span style=\"background:rgb(255, 255, 255)\" title=\"[[S]] The Right\">missions</span> <span style=\"background:rgb(255, 255, 255)\" title=\"[[S]] The Right\">in</span> <span style=\"background:rgb(255, 255, 255)\" title=\"[[S]] The Right\">the</span> <span style=\"background:rgb(33, 255, 33)\" title=\"and by John [Glenn] ; one\">1962</span> <span style=\"background:rgb(255, 255, 255)\" title=\"[[S]] The Right\">book</span> <span style=\"background:rgb(0, 255, 0)\" title=\"cloth with titles [to] the spine\">\"</span><span style=\"background:rgb(255, 255, 255)\" title=\"[[S]] The Right\">We</span> <span style=\"background:rgb(255, 255, 255)\" title=\"[[S]] The Right\">Seven</span><span style=\"background:rgb(255, 255, 255)\" title=\"[[S]] The Right\">\".</span> <span style=\"background:rgb(1, 255, 1)\" title=\"[[S]] The Right\">In</span> <span style=\"background:rgb(255, 255, 255)\" title=\"[[S]] The Right\">1979</span> <span style=\"background:rgb(35, 255, 35)\" title=\"[[S]] The Right\">Tom</span> <span style=\"background:rgb(51, 255, 51)\" title=\"[[S]] The Right\">Wolfe</span> <span style=\"background:rgb(255, 255, 255)\" title=\"[[S]] The Right\">published</span> <span style=\"background:rgb(25, 255, 25)\" title=\"the half - [title] page by\">a</span> <span style=\"background:rgb(255, 255, 255)\" title=\"[[S]] The Right\">less</span> <span style=\"background:rgb(255, 255, 255)\" title=\"[[S]] The Right\">san</span><span style=\"background:rgb(255, 255, 255)\" title=\"[[S]] The Right\">itized</span> <span style=\"background:rgb(31, 255, 31)\" title=\"1979 . First [edition] of Wolfe\">version</span> <span style=\"background:rgb(255, 255, 255)\" title=\"[[S]] The Right\">of</span> <span style=\"background:rgb(255, 255, 255)\" title=\"[[S]] The Right\">their</span> <span style=\"background:rgb(255, 255, 255)\" title=\"[[S]] The Right\">story</span> <span style=\"background:rgb(36, 255, 36)\" title=\"[[S]] The Right\">in</span> <span style=\"background:rgb(18, 255, 18)\" title=\"[[S]] The Right\">\"</span><span style=\"background:rgb(255, 255, 255)\" title=\"[[S]] The Right\">The</span> <span style=\"background:rgb(41, 255, 41)\" title=\"[[S]] The Right\">Right</span> <span style=\"background:rgb(63, 255, 63)\" title=\"[[S]] The Right\">Stuff</span><span style=\"background:rgb(255, 255, 255)\" title=\"[[S]] The Right\">\".</span><span style=\"background:rgb(1, 255, 1)\" title=\"[[S]] The Right\">[CIT]</span><span style=\"background:rgb(1, 255, 1)\" title=\"   []  \"></span><span style=\"background:rgb(255, 255, 255)\" title=\"[[S]] The Right\"></span><span style=\"background:rgb(255, 255, 255)\" title=\"[[S]] The Right\"></span><span style=\"background:rgb(255, 255, 255)\" title=\"[[S]] The Right\"></span><span style=\"background:rgb(255, 255, 255)\" title=\"[[S]] The Right\"></span><span style=\"background:rgb(255, 255, 255)\" title=\"[[S]] The Right\"></span><span style=\"background:rgb(255, 255, 255)\" title=\"[[S]] The Right\"></span><span style=\"background:rgb(255, 255, 255)\" title=\"[[S]] The Right\"></span><span style=\"background:rgb(255, 255, 255)\" title=\"[[S]] The Right\"></span><span style=\"background:rgb(255, 255, 255)\" title=\"[[S]] The Right\"></span><span style=\"background:rgb(255, 255, 255)\" title=\"[[S]] The Right\"></span><span style=\"background:rgb(255, 255, 255)\" title=\"[[S]] The Right\"></span><span style=\"background:rgb(255, 255, 255)\" title=\"[[S]] The Right\"></span><span style=\"background:rgb(255, 255, 255)\" title=\"[[S]] The Right\"></span><span style=\"background:rgb(255, 255, 255)\" title=\"[[S]] The Right\"></span><span style=\"background:rgb(255, 255, 255)\" title=\"[[S]] The Right\"></span><span style=\"background:rgb(255, 255, 255)\" title=\"[[S]] The Right\"></span><span style=\"background:rgb(255, 255, 255)\" title=\"[[S]] The Right\"></span><span style=\"background:rgb(255, 255, 255)\" title=\"[[S]] The Right\"></span><span style=\"background:rgb(255, 255, 255)\" title=\"[[S]] The Right\"></span><span style=\"background:rgb(255, 255, 255)\" title=\"[[S]] The Right\"></span><span style=\"background:rgb(255, 255, 255)\" title=\"[[S]] The Right\"></span><span style=\"background:rgb(255, 255, 255)\" title=\"[[S]] The Right\"></span><span style=\"background:rgb(255, 255, 255)\" title=\"[[S]] The Right\"></span><span style=\"background:rgb(255, 255, 255)\" title=\"[[S]] The Right\"></span><span style=\"background:rgb(255, 255, 255)\" title=\"[[S]] The Right\"></span><span style=\"background:rgb(255, 255, 255)\" title=\"[[S]] The Right\"></span><span style=\"background:rgb(255, 255, 255)\" title=\"[[S]] The Right\"></span><span style=\"background:rgb(255, 255, 255)\" title=\"[[S]] The Right\"></span><span style=\"background:rgb(255, 255, 255)\" title=\"[[S]] The Right\"></span><span style=\"background:rgb(255, 255, 255)\" title=\"[[S]] The Right\"></span><span style=\"background:rgb(255, 255, 255)\" title=\"[[S]] The Right\"></span><span style=\"background:rgb(255, 255, 255)\" title=\"[[S]] The Right\"></span><span style=\"background:rgb(255, 255, 255)\" title=\"[[S]] The Right\"></span><span style=\"background:rgb(255, 255, 255)\" title=\"[[S]] The Right\"></span><span style=\"background:rgb(255, 255, 255)\" title=\"[[S]] The Right\"></span><span style=\"background:rgb(255, 255, 255)\" title=\"[[S]] The Right\"></span><span style=\"background:rgb(255, 255, 255)\" title=\"[[S]] The Right\"></span><span style=\"background:rgb(255, 255, 255)\" title=\"[[S]] The Right\"></span><span style=\"background:rgb(255, 255, 255)\" title=\"[[S]] The Right\"></span><span style=\"background:rgb(255, 255, 255)\" title=\"[[S]] The Right\"></span><span style=\"background:rgb(255, 255, 255)\" title=\"[[S]] The Right\"></span><span style=\"background:rgb(255, 255, 255)\" title=\"[[S]] The Right\"></span><span style=\"background:rgb(255, 255, 255)\" title=\"[[S]] The Right\"></span><span style=\"background:rgb(255, 255, 255)\" title=\"[[S]] The Right\"></span><span style=\"background:rgb(255, 255, 255)\" title=\"[[S]] The Right\"></span><span style=\"background:rgb(255, 255, 255)\" title=\"[[S]] The Right\"></span><span style=\"background:rgb(255, 255, 255)\" title=\"[[S]] The Right\"></span><span style=\"background:rgb(255, 255, 255)\" title=\"[[S]] The Right\"></span><span style=\"background:rgb(255, 255, 255)\" title=\"[[S]] The Right\"></span><span style=\"background:rgb(255, 255, 255)\" title=\"[[S]] The Right\"></span><span style=\"background:rgb(255, 255, 255)\" title=\"[[S]] The Right\"></span><span style=\"background:rgb(255, 255, 255)\" title=\"[[S]] The Right\"></span><span style=\"background:rgb(255, 255, 255)\" title=\"[[S]] The Right\"></span><span style=\"background:rgb(255, 255, 255)\" title=\"[[S]] The Right\"></span><span style=\"background:rgb(255, 255, 255)\" title=\"[[S]] The Right\"></span><span style=\"background:rgb(255, 255, 255)\" title=\"[[S]] The Right\"></span><span style=\"background:rgb(255, 255, 255)\" title=\"[[S]] The Right\"></span><span style=\"background:rgb(255, 255, 255)\" title=\"[[S]] The Right\"></span><span style=\"background:rgb(255, 255, 255)\" title=\"[[S]] The Right\"></span><span style=\"background:rgb(255, 255, 255)\" title=\"[[S]] The Right\"></span><span style=\"background:rgb(255, 255, 255)\" title=\"[[S]] The Right\"></span><span style=\"background:rgb(255, 255, 255)\" title=\"[[S]] The Right\"></span><span style=\"background:rgb(255, 255, 255)\" title=\"[[S]] The Right\"></span><span style=\"background:rgb(255, 255, 255)\" title=\"[[S]] The Right\"></span><span style=\"background:rgb(255, 255, 255)\" title=\"[[S]] The Right\"></span><span style=\"background:rgb(255, 255, 255)\" title=\"[[S]] The Right\"></span><span style=\"background:rgb(255, 255, 255)\" title=\"[[S]] The Right\"></span><span style=\"background:rgb(255, 255, 255)\" title=\"[[S]] The Right\"></span><span style=\"background:rgb(255, 255, 255)\" title=\"[[S]] The Right\"></span><span style=\"background:rgb(255, 255, 255)\" title=\"[[S]] The Right\"></span><span style=\"background:rgb(255, 255, 255)\" title=\"[[S]] The Right\"></span><span style=\"background:rgb(255, 255, 255)\" title=\"[[S]] The Right\"></span><span style=\"background:rgb(255, 255, 255)\" title=\"[[S]] The Right\"></span><span style=\"background:rgb(255, 255, 255)\" title=\"[[S]] The Right\"></span><span style=\"background:rgb(255, 255, 255)\" title=\"[[S]] The Right\"></span><span style=\"background:rgb(255, 255, 255)\" title=\"[[S]] The Right\"></span><span style=\"background:rgb(255, 255, 255)\" title=\"[[S]] The Right\"></span><span style=\"background:rgb(255, 255, 255)\" title=\"[[S]] The Right\"></span><span style=\"background:rgb(255, 255, 255)\" title=\"[[S]] The Right\"></span><span style=\"background:rgb(255, 255, 255)\" title=\"[[S]] The Right\"></span><span style=\"background:rgb(255, 255, 255)\" title=\"[[S]] The Right\"></span><span style=\"background:rgb(255, 255, 255)\" title=\"[[S]] The Right\"></span><span style=\"background:rgb(255, 255, 255)\" title=\"[[S]] The Right\"></span><span style=\"background:rgb(255, 255, 255)\" title=\"[[S]] The Right\"></span><span style=\"background:rgb(255, 255, 255)\" title=\"[[S]] The Right\"></span><p>"
      ],
      "text/plain": [
       "<IPython.core.display.HTML object>"
      ]
     },
     "metadata": {},
     "output_type": "display_data"
    },
    {
     "name": "stdout",
     "output_type": "stream",
     "text": [
      "Passage\n"
     ]
    },
    {
     "data": {
      "text/html": [
       "<span style=\"background:rgb(255, 255, 255)\" title=\"[[S]] Merc ury\">[S]</span><span style=\"background:rgb(38, 255, 38)\" title=\"story in \" [The] Right Stuff\">The</span> <span style=\"background:rgb(41, 255, 41)\" title=\"in \" The [Right] Stuff \".\">Right</span> <span style=\"background:rgb(63, 255, 63)\" title=\"\" The Right [Stuff] \". [CIT]\">Stuff</span> <span style=\"background:rgb(255, 255, 255)\" title=\"[[S]] Merc ury\">Signed</span> <span style=\"background:rgb(255, 255, 255)\" title=\"[[S]] Merc ury\">First</span> <span style=\"background:rgb(255, 255, 255)\" title=\"[[S]] Merc ury\">Edition</span> <span style=\"background:rgb(35, 255, 35)\" title=\"\". In 1979 [Tom] Wolfe published\">Tom</span> <span style=\"background:rgb(51, 255, 51)\" title=\"In 1979 Tom [Wolfe] published a\">Wolfe</span><span style=\"background:rgb(0, 255, 0)\" title=\"[[S]] Merc ury\">[/S]</span><span style=\"background:rgb(12, 255, 12)\" title=\"of their story [in] \" The\">The</span> <span style=\"background:rgb(255, 255, 255)\" title=\"[[S]] Merc ury\">Right</span> <span style=\"background:rgb(255, 255, 255)\" title=\"[[S]] Merc ury\">Stuff</span> <span style=\"background:rgb(255, 255, 255)\" title=\"[[S]] Merc ury\">Signed</span> <span style=\"background:rgb(255, 255, 255)\" title=\"[[S]] Merc ury\">First</span> <span style=\"background:rgb(8, 255, 8)\" title=\"first - hand [accounts] of their\">Edition</span> <span style=\"background:rgb(255, 255, 255)\" title=\"[[S]] Merc ury\">Tom</span> <span style=\"background:rgb(255, 255, 255)\" title=\"[[S]] Merc ury\">Wolfe</span> <span style=\"background:rgb(255, 255, 255)\" title=\"[[S]] Merc ury\">radical</span> <span style=\"background:rgb(255, 255, 255)\" title=\"[[S]] Merc ury\">in</span> <span style=\"background:rgb(0, 255, 0)\" title=\"Bank in Houston [,] and devoted\">the</span> <span style=\"background:rgb(255, 255, 255)\" title=\"[[S]] Merc ury\">1960</span><span style=\"background:rgb(255, 255, 255)\" title=\"[[S]] Merc ury\">s</span> <span style=\"background:rgb(2, 255, 2)\" title=\"the Bay town [National] Bank in\">and</span> <span style=\"background:rgb(255, 255, 255)\" title=\"[[S]] Merc ury\">had</span> <span style=\"background:rgb(255, 255, 255)\" title=\"[[S]] Merc ury\">a</span> <span style=\"background:rgb(255, 255, 255)\" title=\"[[S]] Merc ury\">close</span> <span style=\"background:rgb(255, 255, 255)\" title=\"[[S]] Merc ury\">relationship</span> <span style=\"background:rgb(255, 255, 255)\" title=\"[[S]] Merc ury\">with</span> <span style=\"background:rgb(255, 255, 255)\" title=\"[[S]] Merc ury\">the</span> <span style=\"background:rgb(255, 255, 255)\" title=\"[[S]] Merc ury\">Black</span> <span style=\"background:rgb(255, 255, 255)\" title=\"[[S]] Merc ury\">Panther</span> <span style=\"background:rgb(255, 255, 255)\" title=\"[[S]] Merc ury\">Party</span> <span style=\"background:rgb(255, 255, 255)\" title=\"[[S]] Merc ury\">through</span> <span style=\"background:rgb(255, 255, 255)\" title=\"[[S]] Merc ury\">her</span> <span style=\"background:rgb(255, 255, 255)\" title=\"[[S]] Merc ury\">involvement</span> <span style=\"background:rgb(255, 255, 255)\" title=\"[[S]] Merc ury\">in</span> <span style=\"background:rgb(255, 255, 255)\" title=\"[[S]] Merc ury\">the</span> <span style=\"background:rgb(255, 255, 255)\" title=\"[[S]] Merc ury\">Civil</span> <span style=\"background:rgb(255, 255, 255)\" title=\"[[S]] Merc ury\">Rights</span> <span style=\"background:rgb(255, 255, 255)\" title=\"[[S]] Merc ury\">movement</span><span style=\"background:rgb(255, 255, 255)\" title=\"[[S]] Merc ury\">.</span> <span style=\"background:rgb(255, 255, 255)\" title=\"[[S]] Merc ury\">Fine</span> <span style=\"background:rgb(12, 255, 12)\" title=\"accounts of their [selection] and preparation\">in</span> <span style=\"background:rgb(255, 255, 255)\" title=\"[[S]] Merc ury\">a</span> <span style=\"background:rgb(255, 255, 255)\" title=\"[[S]] Merc ury\">fine</span> <span style=\"background:rgb(255, 255, 255)\" title=\"[[S]] Merc ury\">dust</span> <span style=\"background:rgb(255, 255, 255)\" title=\"[[S]] Merc ury\">jacket</span><span style=\"background:rgb(2, 255, 2)\" title=\"National Bank in [Houston] , and\">.</span> <span style=\"background:rgb(255, 255, 255)\" title=\"[[S]] Merc ury\">Jacket</span> <span style=\"background:rgb(255, 255, 255)\" title=\"[[S]] Merc ury\">design</span> <span style=\"background:rgb(11, 255, 11)\" title=\"control passed to [George] Abbey .\">by</span> <span style=\"background:rgb(255, 255, 255)\" title=\"[[S]] Merc ury\">Milton</span> <span style=\"background:rgb(255, 255, 255)\" title=\"[[S]] Merc ury\">Gl</span><span style=\"background:rgb(255, 255, 255)\" title=\"[[S]] Merc ury\">aser</span><span style=\"background:rgb(255, 255, 255)\" title=\"[[S]] Merc ury\">.</span> <span style=\"background:rgb(255, 255, 255)\" title=\"[[S]] Merc ury\">First</span> <span style=\"background:rgb(26, 255, 26)\" title=\"less san itized [version] of their\">Edition</span> <span style=\"background:rgb(255, 255, 255)\" title=\"[[S]] Merc ury\">of</span> <span style=\"background:rgb(12, 255, 12)\" title=\"character of the [Astron] aut Office\">The</span> <span style=\"background:rgb(255, 255, 255)\" title=\"[[S]] Merc ury\">Right</span> <span style=\"background:rgb(255, 255, 255)\" title=\"[[S]] Merc ury\">Stuff</span><span style=\"background:rgb(255, 255, 255)\" title=\"[[S]] Merc ury\">;</span> <span style=\"background:rgb(255, 255, 255)\" title=\"[[S]] Merc ury\">Signed</span> <span style=\"background:rgb(255, 255, 255)\" title=\"[[S]] Merc ury\">by</span> <span style=\"background:rgb(255, 255, 255)\" title=\"[[S]] Merc ury\">Tom</span> <span style=\"background:rgb(39, 255, 39)\" title=\"passed to George [Abbey] . The\">Wolfe</span><span style=\"background:rgb(255, 255, 255)\" title=\"[[S]] Merc ury\">,</span> <span style=\"background:rgb(255, 255, 255)\" title=\"[[S]] Merc ury\">Chuck</span> <span style=\"background:rgb(255, 255, 255)\" title=\"[[S]] Merc ury\">Ye</span><span style=\"background:rgb(255, 255, 255)\" title=\"[[S]] Merc ury\">ager</span> <span style=\"background:rgb(255, 255, 255)\" title=\"[[S]] Merc ury\">and</span> <span style=\"background:rgb(255, 255, 255)\" title=\"[[S]] Merc ury\">John</span> <span style=\"background:rgb(255, 255, 255)\" title=\"[[S]] Merc ury\">Glenn</span> <span style=\"background:rgb(255, 255, 255)\" title=\"[[S]] Merc ury\">New</span> <span style=\"background:rgb(255, 255, 255)\" title=\"[[S]] Merc ury\">York</span><span style=\"background:rgb(255, 255, 255)\" title=\"[[S]] Merc ury\">:</span> <span style=\"background:rgb(255, 255, 255)\" title=\"[[S]] Merc ury\">F</span><span style=\"background:rgb(255, 255, 255)\" title=\"[[S]] Merc ury\">arr</span><span style=\"background:rgb(255, 255, 255)\" title=\"[[S]] Merc ury\">ar</span><span style=\"background:rgb(255, 255, 255)\" title=\"[[S]] Merc ury\">,</span> <span style=\"background:rgb(255, 255, 255)\" title=\"[[S]] Merc ury\">Stra</span><span style=\"background:rgb(255, 255, 255)\" title=\"[[S]] Merc ury\">us</span><span style=\"background:rgb(255, 255, 255)\" title=\"[[S]] Merc ury\">,</span> <span style=\"background:rgb(255, 255, 255)\" title=\"[[S]] Merc ury\">Gir</span><span style=\"background:rgb(255, 255, 255)\" title=\"[[S]] Merc ury\">oux</span><span style=\"background:rgb(255, 255, 255)\" title=\"[[S]] Merc ury\">,</span> <span style=\"background:rgb(95, 255, 95)\" title=\"Seven \". In [1979] Tom Wolfe\">1979</span><span style=\"background:rgb(3, 255, 3)\" title=\"of the Bay [town] National Bank\">.</span> <span style=\"background:rgb(31, 255, 31)\" title=\"Wolfe published a [less] san itized\">First</span> <span style=\"background:rgb(52, 255, 52)\" title=\"1979 Tom Wolfe [published] a less\">edition</span> <span style=\"background:rgb(8, 255, 8)\" title=\"hand accounts of [their] selection and\">of</span> <span style=\"background:rgb(255, 255, 255)\" title=\"[[S]] Merc ury\">Wolfe</span><span style=\"background:rgb(1, 255, 1)\" title=\"The Mercury Seven [wrote] first -\">'s</span> <span style=\"background:rgb(255, 255, 255)\" title=\"[[S]] Merc ury\">classic</span> <span style=\"background:rgb(34, 255, 34)\" title=\"their selection and [preparation] for the\">work</span><span style=\"background:rgb(255, 255, 255)\" title=\"[[S]] Merc ury\">.</span> <span style=\"background:rgb(255, 255, 255)\" title=\"[[S]] Merc ury\">Oct</span><span style=\"background:rgb(255, 255, 255)\" title=\"[[S]] Merc ury\">av</span><span style=\"background:rgb(255, 255, 255)\" title=\"[[S]] Merc ury\">o</span><span style=\"background:rgb(255, 255, 255)\" title=\"[[S]] Merc ury\">,</span> <span style=\"background:rgb(255, 255, 255)\" title=\"[[S]] Merc ury\">original</span> <span style=\"background:rgb(255, 255, 255)\" title=\"[[S]] Merc ury\">cloth</span> <span style=\"background:rgb(255, 255, 255)\" title=\"[[S]] Merc ury\">with</span> <span style=\"background:rgb(255, 255, 255)\" title=\"[[S]] Merc ury\">titles</span> <span style=\"background:rgb(255, 255, 255)\" title=\"[[S]] Merc ury\">to</span> <span style=\"background:rgb(255, 255, 255)\" title=\"[[S]] Merc ury\">the</span> <span style=\"background:rgb(255, 255, 255)\" title=\"[[S]] Merc ury\">spine</span> <span style=\"background:rgb(255, 255, 255)\" title=\"[[S]] Merc ury\">in</span> <span style=\"background:rgb(255, 255, 255)\" title=\"[[S]] Merc ury\">silver</span><span style=\"background:rgb(255, 255, 255)\" title=\"[[S]] Merc ury\">.</span> <span style=\"background:rgb(255, 255, 255)\" title=\"[[S]] Merc ury\">Signed</span> <span style=\"background:rgb(255, 255, 255)\" title=\"[[S]] Merc ury\">by</span> <span style=\"background:rgb(255, 255, 255)\" title=\"[[S]] Merc ury\">Tom</span> <span style=\"background:rgb(255, 255, 255)\" title=\"[[S]] Merc ury\">Wolfe</span> <span style=\"background:rgb(255, 255, 255)\" title=\"[[S]] Merc ury\">on</span> <span style=\"background:rgb(255, 255, 255)\" title=\"[[S]] Merc ury\">the</span> <span style=\"background:rgb(255, 255, 255)\" title=\"[[S]] Merc ury\">title</span> <span style=\"background:rgb(255, 255, 255)\" title=\"[[S]] Merc ury\">page</span> <span style=\"background:rgb(255, 255, 255)\" title=\"[[S]] Merc ury\">and</span> <span style=\"background:rgb(255, 255, 255)\" title=\"[[S]] Merc ury\">additionally</span> <span style=\"background:rgb(63, 255, 63)\" title=\"published a less [san] itized version\">signed</span> <span style=\"background:rgb(255, 255, 255)\" title=\"[[S]] Merc ury\">on</span> <span style=\"background:rgb(255, 255, 255)\" title=\"[[S]] Merc ury\">the</span> <span style=\"background:rgb(255, 255, 255)\" title=\"[[S]] Merc ury\">half</span><span style=\"background:rgb(1, 255, 1)\" title=\"We Seven \". [In] 1979 Tom\">-</span><span style=\"background:rgb(255, 255, 255)\" title=\"[[S]] Merc ury\">title</span> <span style=\"background:rgb(255, 255, 255)\" title=\"[[S]] Merc ury\">page</span> <span style=\"background:rgb(255, 255, 255)\" title=\"[[S]] Merc ury\">by</span> <span style=\"background:rgb(255, 255, 255)\" title=\"[[S]] Merc ury\">pilot</span> <span style=\"background:rgb(255, 255, 255)\" title=\"[[S]] Merc ury\">Chuck</span> <span style=\"background:rgb(255, 255, 255)\" title=\"[[S]] Merc ury\">Ye</span><span style=\"background:rgb(255, 255, 255)\" title=\"[[S]] Merc ury\">ager</span> <span style=\"background:rgb(6, 255, 6)\" title=\"the Astron aut [Office] would only\">and</span> <span style=\"background:rgb(255, 255, 255)\" title=\"[[S]] Merc ury\">by</span> <span style=\"background:rgb(255, 255, 255)\" title=\"[[S]] Merc ury\">John</span> <span style=\"background:rgb(255, 255, 255)\" title=\"[[S]] Merc ury\">Glenn</span><span style=\"background:rgb(0, 255, 0)\" title=\"wrote first - [hand] accounts of\">;</span> <span style=\"background:rgb(22, 255, 22)\" title=\"itized version of [their] story in\">one</span> <span style=\"background:rgb(255, 255, 255)\" title=\"[[S]] Merc ury\">of</span> <span style=\"background:rgb(255, 255, 255)\" title=\"[[S]] Merc ury\">the</span> <span style=\"background:rgb(22, 255, 22)\" title=\"[S] [Merc] ury Seven\">Mercury</span> <span style=\"background:rgb(21, 255, 21)\" title=\"[S] Merc ury [Seven] [/S] pro\">Seven</span><span style=\"background:rgb(1, 255, 1)\" title=\"or teaching part [-] time ,\">.</span> <span style=\"background:rgb(255, 255, 255)\" title=\"[[S]] Merc ury\">Fine</span> <span style=\"background:rgb(8, 255, 8)\" title=\"san itized version [of] their story\">in</span><span style=\"background:rgb(0, 255, 0)\" title=\"Merc ury Seven [[/S]] pro hibited\">[/S]</span><span style=\"background:rgb(255, 255, 255)\" title=\"[[S]] Merc ury\"></span><span style=\"background:rgb(255, 255, 255)\" title=\"[[S]] Merc ury\"></span><span style=\"background:rgb(255, 255, 255)\" title=\"[[S]] Merc ury\"></span><span style=\"background:rgb(255, 255, 255)\" title=\"[[S]] Merc ury\"></span><span style=\"background:rgb(255, 255, 255)\" title=\"[[S]] Merc ury\"></span><span style=\"background:rgb(255, 255, 255)\" title=\"[[S]] Merc ury\"></span><span style=\"background:rgb(255, 255, 255)\" title=\"[[S]] Merc ury\"></span><span style=\"background:rgb(255, 255, 255)\" title=\"[[S]] Merc ury\"></span><span style=\"background:rgb(255, 255, 255)\" title=\"[[S]] Merc ury\"></span><span style=\"background:rgb(255, 255, 255)\" title=\"[[S]] Merc ury\"></span><span style=\"background:rgb(255, 255, 255)\" title=\"[[S]] Merc ury\"></span><span style=\"background:rgb(255, 255, 255)\" title=\"[[S]] Merc ury\"></span><span style=\"background:rgb(255, 255, 255)\" title=\"[[S]] Merc ury\"></span><span style=\"background:rgb(255, 255, 255)\" title=\"[[S]] Merc ury\"></span><span style=\"background:rgb(255, 255, 255)\" title=\"[[S]] Merc ury\"></span><span style=\"background:rgb(255, 255, 255)\" title=\"[[S]] Merc ury\"></span><span style=\"background:rgb(255, 255, 255)\" title=\"[[S]] Merc ury\"></span><span style=\"background:rgb(255, 255, 255)\" title=\"[[S]] Merc ury\"></span><span style=\"background:rgb(255, 255, 255)\" title=\"[[S]] Merc ury\"></span><span style=\"background:rgb(255, 255, 255)\" title=\"[[S]] Merc ury\"></span><span style=\"background:rgb(255, 255, 255)\" title=\"[[S]] Merc ury\"></span><span style=\"background:rgb(255, 255, 255)\" title=\"[[S]] Merc ury\"></span><span style=\"background:rgb(255, 255, 255)\" title=\"[[S]] Merc ury\"></span><span style=\"background:rgb(255, 255, 255)\" title=\"[[S]] Merc ury\"></span><span style=\"background:rgb(255, 255, 255)\" title=\"[[S]] Merc ury\"></span><span style=\"background:rgb(255, 255, 255)\" title=\"[[S]] Merc ury\"></span><span style=\"background:rgb(255, 255, 255)\" title=\"[[S]] Merc ury\"></span><span style=\"background:rgb(255, 255, 255)\" title=\"[[S]] Merc ury\"></span><span style=\"background:rgb(255, 255, 255)\" title=\"[[S]] Merc ury\"></span><span style=\"background:rgb(255, 255, 255)\" title=\"[[S]] Merc ury\"></span><span style=\"background:rgb(255, 255, 255)\" title=\"[[S]] Merc ury\"></span><span style=\"background:rgb(255, 255, 255)\" title=\"[[S]] Merc ury\"></span><span style=\"background:rgb(255, 255, 255)\" title=\"[[S]] Merc ury\"></span><span style=\"background:rgb(255, 255, 255)\" title=\"[[S]] Merc ury\"></span><span style=\"background:rgb(255, 255, 255)\" title=\"[[S]] Merc ury\"></span><span style=\"background:rgb(255, 255, 255)\" title=\"[[S]] Merc ury\"></span><span style=\"background:rgb(255, 255, 255)\" title=\"[[S]] Merc ury\"></span><span style=\"background:rgb(255, 255, 255)\" title=\"[[S]] Merc ury\"></span><span style=\"background:rgb(255, 255, 255)\" title=\"[[S]] Merc ury\"></span><span style=\"background:rgb(255, 255, 255)\" title=\"[[S]] Merc ury\"></span><span style=\"background:rgb(255, 255, 255)\" title=\"[[S]] Merc ury\"></span><span style=\"background:rgb(255, 255, 255)\" title=\"[[S]] Merc ury\"></span><span style=\"background:rgb(255, 255, 255)\" title=\"[[S]] Merc ury\"></span><span style=\"background:rgb(255, 255, 255)\" title=\"[[S]] Merc ury\"></span><span style=\"background:rgb(255, 255, 255)\" title=\"[[S]] Merc ury\"></span><span style=\"background:rgb(255, 255, 255)\" title=\"[[S]] Merc ury\"></span><span style=\"background:rgb(255, 255, 255)\" title=\"[[S]] Merc ury\"></span><span style=\"background:rgb(255, 255, 255)\" title=\"[[S]] Merc ury\"></span><span style=\"background:rgb(255, 255, 255)\" title=\"[[S]] Merc ury\"></span><span style=\"background:rgb(255, 255, 255)\" title=\"[[S]] Merc ury\"></span><span style=\"background:rgb(255, 255, 255)\" title=\"[[S]] Merc ury\"></span><span style=\"background:rgb(255, 255, 255)\" title=\"[[S]] Merc ury\"></span><span style=\"background:rgb(255, 255, 255)\" title=\"[[S]] Merc ury\"></span><span style=\"background:rgb(255, 255, 255)\" title=\"[[S]] Merc ury\"></span><span style=\"background:rgb(255, 255, 255)\" title=\"[[S]] Merc ury\"></span><span style=\"background:rgb(255, 255, 255)\" title=\"[[S]] Merc ury\"></span><span style=\"background:rgb(255, 255, 255)\" title=\"[[S]] Merc ury\"></span><span style=\"background:rgb(255, 255, 255)\" title=\"[[S]] Merc ury\"></span><span style=\"background:rgb(255, 255, 255)\" title=\"[[S]] Merc ury\"></span><span style=\"background:rgb(255, 255, 255)\" title=\"[[S]] Merc ury\"></span><span style=\"background:rgb(255, 255, 255)\" title=\"[[S]] Merc ury\"></span><span style=\"background:rgb(255, 255, 255)\" title=\"[[S]] Merc ury\"></span><span style=\"background:rgb(255, 255, 255)\" title=\"[[S]] Merc ury\"></span><span style=\"background:rgb(255, 255, 255)\" title=\"[[S]] Merc ury\"></span><span style=\"background:rgb(255, 255, 255)\" title=\"[[S]] Merc ury\"></span><span style=\"background:rgb(255, 255, 255)\" title=\"[[S]] Merc ury\"></span><span style=\"background:rgb(255, 255, 255)\" title=\"[[S]] Merc ury\"></span><span style=\"background:rgb(255, 255, 255)\" title=\"[[S]] Merc ury\"></span><span style=\"background:rgb(255, 255, 255)\" title=\"[[S]] Merc ury\"></span><span style=\"background:rgb(255, 255, 255)\" title=\"[[S]] Merc ury\"></span><span style=\"background:rgb(255, 255, 255)\" title=\"[[S]] Merc ury\"></span><span style=\"background:rgb(255, 255, 255)\" title=\"[[S]] Merc ury\"></span><span style=\"background:rgb(255, 255, 255)\" title=\"[[S]] Merc ury\"></span><span style=\"background:rgb(255, 255, 255)\" title=\"[[S]] Merc ury\"></span><span style=\"background:rgb(255, 255, 255)\" title=\"[[S]] Merc ury\"></span><span style=\"background:rgb(255, 255, 255)\" title=\"[[S]] Merc ury\"></span><span style=\"background:rgb(255, 255, 255)\" title=\"[[S]] Merc ury\"></span><span style=\"background:rgb(255, 255, 255)\" title=\"[[S]] Merc ury\"></span><span style=\"background:rgb(255, 255, 255)\" title=\"[[S]] Merc ury\"></span><span style=\"background:rgb(255, 255, 255)\" title=\"[[S]] Merc ury\"></span><span style=\"background:rgb(255, 255, 255)\" title=\"[[S]] Merc ury\"></span><span style=\"background:rgb(255, 255, 255)\" title=\"[[S]] Merc ury\"></span><span style=\"background:rgb(255, 255, 255)\" title=\"[[S]] Merc ury\"></span><span style=\"background:rgb(255, 255, 255)\" title=\"[[S]] Merc ury\"></span><span style=\"background:rgb(255, 255, 255)\" title=\"[[S]] Merc ury\"></span><span style=\"background:rgb(255, 255, 255)\" title=\"[[S]] Merc ury\"></span><span style=\"background:rgb(255, 255, 255)\" title=\"[[S]] Merc ury\"></span><span style=\"background:rgb(255, 255, 255)\" title=\"[[S]] Merc ury\"></span><span style=\"background:rgb(255, 255, 255)\" title=\"[[S]] Merc ury\"></span><span style=\"background:rgb(255, 255, 255)\" title=\"[[S]] Merc ury\"></span><span style=\"background:rgb(255, 255, 255)\" title=\"[[S]] Merc ury\"></span><span style=\"background:rgb(255, 255, 255)\" title=\"[[S]] Merc ury\"></span><span style=\"background:rgb(255, 255, 255)\" title=\"[[S]] Merc ury\"></span><span style=\"background:rgb(255, 255, 255)\" title=\"[[S]] Merc ury\"></span><span style=\"background:rgb(255, 255, 255)\" title=\"[[S]] Merc ury\"></span><span style=\"background:rgb(255, 255, 255)\" title=\"[[S]] Merc ury\"></span><span style=\"background:rgb(255, 255, 255)\" title=\"[[S]] Merc ury\"></span><span style=\"background:rgb(255, 255, 255)\" title=\"[[S]] Merc ury\"></span><span style=\"background:rgb(255, 255, 255)\" title=\"[[S]] Merc ury\"></span><span style=\"background:rgb(255, 255, 255)\" title=\"[[S]] Merc ury\"></span><span style=\"background:rgb(255, 255, 255)\" title=\"[[S]] Merc ury\"></span><span style=\"background:rgb(255, 255, 255)\" title=\"[[S]] Merc ury\"></span><span style=\"background:rgb(255, 255, 255)\" title=\"[[S]] Merc ury\"></span><span style=\"background:rgb(255, 255, 255)\" title=\"[[S]] Merc ury\"></span><span style=\"background:rgb(255, 255, 255)\" title=\"[[S]] Merc ury\"></span><span style=\"background:rgb(255, 255, 255)\" title=\"[[S]] Merc ury\"></span><span style=\"background:rgb(255, 255, 255)\" title=\"[[S]] Merc ury\"></span><span style=\"background:rgb(255, 255, 255)\" title=\"[[S]] Merc ury\"></span><span style=\"background:rgb(255, 255, 255)\" title=\"[[S]] Merc ury\"></span><p>"
      ],
      "text/plain": [
       "<IPython.core.display.HTML object>"
      ]
     },
     "metadata": {},
     "output_type": "display_data"
    }
   ],
   "source": [
    "print(\"\\n\", instance_id, \"\\n\")\n",
    "print_instance(instance_id=instance_id)\n",
    "instance_id += 1\n",
    "# 17, 41"
   ]
  },
  {
   "cell_type": "markdown",
   "id": "72345c75",
   "metadata": {},
   "source": [
    "### Show heatmap"
   ]
  },
  {
   "cell_type": "code",
   "execution_count": 335,
   "id": "7f4c9dfc",
   "metadata": {},
   "outputs": [],
   "source": [
    "def show_hm(instance_id):\n",
    "    q_ids = colbert_interactions[instance_id][\"output\"][0][\"provenance\"][0][\"question_ids\"]\n",
    "    c_ids = colbert_interactions[instance_id][\"output\"][0][\"provenance\"][0][\"context_ids\"]\n",
    "\n",
    "    q_toks = tokenizer.convert_ids_to_tokens(q_ids[instance_id%2])\n",
    "    c_toks = tokenizer.convert_ids_to_tokens(c_ids[instance_id%2])\n",
    "\n",
    "    interactions = colbert_interactions[instance_id][\"output\"][0][\"provenance\"][0][\"interactions\"]\n",
    "    interactions = torch.tensor(interactions)\n",
    "    fig, ax = plt.subplots()\n",
    "    fig.set_size_inches(50., 50.)\n",
    "    inter = interactions[instance_id%2][instance_id%2]\n",
    "    seaborn.heatmap(inter, xticklabels=c_toks, yticklabels=q_toks)"
   ]
  },
  {
   "cell_type": "code",
   "execution_count": 334,
   "id": "2f6febb2",
   "metadata": {},
   "outputs": [],
   "source": [
    "#show_hm(instance_id=1)"
   ]
  }
 ],
 "metadata": {
  "kernelspec": {
   "display_name": "Python 3",
   "language": "python",
   "name": "python3"
  },
  "language_info": {
   "codemirror_mode": {
    "name": "ipython",
    "version": 3
   },
   "file_extension": ".py",
   "mimetype": "text/x-python",
   "name": "python",
   "nbconvert_exporter": "python",
   "pygments_lexer": "ipython3",
   "version": "3.8.10"
  }
 },
 "nbformat": 4,
 "nbformat_minor": 5
}
