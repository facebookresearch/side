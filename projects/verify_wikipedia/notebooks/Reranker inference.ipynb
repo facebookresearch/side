{
 "cells": [
  {
   "cell_type": "markdown",
   "id": "7c32ccc4",
   "metadata": {},
   "source": [
    "# Inference code for reranker"
   ]
  },
  {
   "cell_type": "code",
   "execution_count": null,
   "id": "424fb0f5",
   "metadata": {},
   "outputs": [],
   "source": [
    "import sys\n",
    "import torch"
   ]
  },
  {
   "cell_type": "code",
   "execution_count": null,
   "id": "c4ccb47f",
   "metadata": {},
   "outputs": [],
   "source": [
    "sys.path.append(\"/private/home/samuelbroscheit/PycharmProjects/side-internal/\")"
   ]
  },
  {
   "cell_type": "code",
   "execution_count": null,
   "id": "620ed323",
   "metadata": {},
   "outputs": [],
   "source": [
    "from misc.inference_notebook import get_crossencoder_components_from_checkpoint"
   ]
  },
  {
   "cell_type": "code",
   "execution_count": null,
   "id": "9fd416f5",
   "metadata": {},
   "outputs": [],
   "source": [
    "# The checkpoint\n",
    "checkpoint_dir = \"/checkpoint/fabiopetroni/WAI/Samuel/checkpoints/colbert/49816313/\""
   ]
  },
  {
   "cell_type": "code",
   "execution_count": null,
   "id": "83449bf7",
   "metadata": {},
   "outputs": [],
   "source": [
    "ctx_src, biencoder_prepare_encoder_inputs_func, biencoder = \\\n",
    "    get_crossencoder_components_from_checkpoint([\n",
    "    \"retriever=reranker\",\n",
    "    \"retriever.ctx_src=wafer_ccnet\",\n",
    "    \"retriever.batch_size=2\",\n",
    "    \"retriever.checkpoint_dir='/checkpoint/fabiopetroni/WAI/Samuel/checkpoints/crossencoder/52237054/'\",\n",
    "])"
   ]
  },
  {
   "cell_type": "code",
   "execution_count": null,
   "id": "f1345453",
   "metadata": {},
   "outputs": [],
   "source": [
    "def get_score(wiki_claim, passage):\n",
    "    question_ids = ctx_src.preprocess_query(wiki_claim, training=False)\n",
    "    ctx_ids = ctx_src.preprocess_passage(ctx_src.passage_struct_from_dict(passage), training=False)\n",
    "    inputs = {\n",
    "        \"question_ids\": question_ids.view(1, -1),\n",
    "        \"question_segments\": torch.zeros_like(question_ids),\n",
    "        \"context_ids\": ctx_ids.view(1, -1),\n",
    "        \"ctx_segments\": torch.zeros_like(ctx_ids),\n",
    "    }\n",
    "    inputs = biencoder_prepare_encoder_inputs_func(inputs, ctx_src)\n",
    "    with torch.no_grad():\n",
    "        _, score = biencoder(\n",
    "            **inputs,\n",
    "            encoder_type=\"question\",\n",
    "            representation_token_pos=0,\n",
    "        )\n",
    "    return score\n",
    "    "
   ]
  },
  {
   "cell_type": "markdown",
   "id": "57357c4d",
   "metadata": {},
   "source": [
    "# Playground"
   ]
  },
  {
   "cell_type": "code",
   "execution_count": null,
   "id": "2eb5871f",
   "metadata": {},
   "outputs": [],
   "source": [
    "get_score(\n",
    "    \"U.K.[SEP]Some Section[SEP]The U.K. is an island.[CIT]\",\n",
    "    {\n",
    "        \"title\": \"Apparently the U.K. is an island! The Guardian\",\n",
    "        \"text\": \"I was drinking my morning coffe when I realized that the U.K. is an island.\",\n",
    "        \"url\": \"the guardian\",\n",
    "    },\n",
    ")    "
   ]
  },
  {
   "cell_type": "code",
   "execution_count": null,
   "id": "f5049d75",
   "metadata": {},
   "outputs": [],
   "source": []
  },
  {
   "cell_type": "code",
   "execution_count": null,
   "id": "7924db1c",
   "metadata": {},
   "outputs": [],
   "source": []
  }
 ],
 "metadata": {
  "kernelspec": {
   "display_name": "Python 3",
   "language": "python",
   "name": "python3"
  },
  "language_info": {
   "codemirror_mode": {
    "name": "ipython",
    "version": 3
   },
   "file_extension": ".py",
   "mimetype": "text/x-python",
   "name": "python",
   "nbconvert_exporter": "python",
   "pygments_lexer": "ipython3",
   "version": "3.8.10"
  }
 },
 "nbformat": 4,
 "nbformat_minor": 5
}
